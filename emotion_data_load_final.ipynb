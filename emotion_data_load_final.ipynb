{
 "cells": [
  {
   "cell_type": "code",
   "execution_count": 1,
   "metadata": {},
   "outputs": [],
   "source": [
    "import cv2\n",
    "from glob import glob\n",
    "import os\n",
    "import numpy as np\n",
    "\n",
    "train_path = 'C:/deeplearning/emotion/train/'\n",
    "test_path = 'C:/deeplearning/emotion/test/'\n",
    "\n",
    "class_list = os.listdir(train_path)"
   ]
  },
  {
   "cell_type": "code",
   "execution_count": null,
   "metadata": {},
   "outputs": [],
   "source": [
    "from tqdm.auto import tqdm\n",
    "\n",
    "# 파일 하나씩 읽어오기\n",
    "train_dataset = []\n",
    "noneset = [] #이미지를 제대로 읽어오지 못한 경우 noneset에 저장.\n",
    "\n",
    "from PIL import Image \n",
    "for class_name in tqdm(class_list):\n",
    "    train_files = glob(train_path+class_name+\"/*.png\")\n",
    "\n",
    "    for train_file in train_files:\n",
    "        img = cv2.imread(train_file, cv2.IMREAD_GRAYSCALE)\n",
    "        if img is None:\n",
    "            noneset.append(train_file)\n",
    "            continue\n",
    "        train_dataset.append((img, class_name)) # X : img, y(label) : class_name"
   ]
  },
  {
   "cell_type": "code",
   "execution_count": 3,
   "metadata": {},
   "outputs": [],
   "source": [
    "label_set = {'angry': 0,\n",
    " 'disgusted': 1,\n",
    " 'fearful': 2,\n",
    " 'happy': 3,\n",
    " 'neutral': 4,\n",
    " 'sad': 5,\n",
    " 'surprised': 6,\n",
    "}"
   ]
  },
  {
   "cell_type": "code",
   "execution_count": 4,
   "metadata": {},
   "outputs": [],
   "source": [
    "train_data = []\n",
    "for img, label in train_dataset:\n",
    "    # 이미지 정규화하기\n",
    "    img_normalized = img/255.\n",
    "    # 이미지 크기 조정하기\n",
    "    resized_img = cv2.resize(img_normalized, (48,48))\n",
    "    train_data.append((resized_img, label_set[label]))"
   ]
  },
  {
   "cell_type": "code",
   "execution_count": 7,
   "metadata": {},
   "outputs": [],
   "source": [
    "import pickle\n",
    "with open('emo_train_dataset_0508.pkl', 'wb') as f:\n",
    "    pickle.dump(train_data, f)"
   ]
  },
  {
   "cell_type": "code",
   "execution_count": null,
   "metadata": {},
   "outputs": [],
   "source": [
    "# 파일 하나씩 읽어오기\n",
    "test_dataset = []\n",
    "noneset = []\n",
    "\n",
    "for class_name in tqdm(class_list):\n",
    "    test_files = glob(test_path+class_name+\"/*.png\")\n",
    "\n",
    "    for test_file in test_files:\n",
    "        img = cv2.imread(test_file, cv2.IMREAD_GRAYSCALE)\n",
    "        if img is None:\n",
    "            noneset.append(test_file)\n",
    "            continue\n",
    "        test_dataset.append((img, class_name)) # X : img, y(label) : class_name"
   ]
  },
  {
   "cell_type": "code",
   "execution_count": 10,
   "metadata": {},
   "outputs": [],
   "source": [
    "test_data = []\n",
    "for img, label in test_dataset:\n",
    "\n",
    "    # 이미지 정규화하기\n",
    "    img_normalized = img/255.\n",
    "\n",
    "    # 이미지 크기 조정하기\n",
    "    resized_img = cv2.resize(img_normalized, (48,48))\n",
    "    test_data.append((resized_img, label_set[label]))"
   ]
  },
  {
   "cell_type": "code",
   "execution_count": 11,
   "metadata": {},
   "outputs": [],
   "source": [
    "import pickle\n",
    "with open('emo_test_dataset_0508.pkl', 'wb') as f:\n",
    "    pickle.dump(test_data, f)"
   ]
  }
 ],
 "metadata": {
  "kernelspec": {
   "display_name": "base",
   "language": "python",
   "name": "python3"
  },
  "language_info": {
   "codemirror_mode": {
    "name": "ipython",
    "version": 3
   },
   "file_extension": ".py",
   "mimetype": "text/x-python",
   "name": "python",
   "nbconvert_exporter": "python",
   "pygments_lexer": "ipython3",
   "version": "3.8.8"
  },
  "orig_nbformat": 4
 },
 "nbformat": 4,
 "nbformat_minor": 2
}
